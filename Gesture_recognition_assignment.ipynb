{
 "cells": [
  {
   "cell_type": "markdown",
   "metadata": {},
   "source": [
    "# Gesture Recognition\n",
    "In this group project, you are going to build a 3D Conv model that will be able to predict the 5 gestures correctly. Please import the following libraries to get started."
   ]
  },
  {
   "cell_type": "code",
   "execution_count": 1,
   "metadata": {
    "execution": {
     "iopub.execute_input": "2022-04-12T09:25:29.732951Z",
     "iopub.status.busy": "2022-04-12T09:25:29.732621Z",
     "iopub.status.idle": "2022-04-12T09:25:31.627309Z",
     "shell.execute_reply": "2022-04-12T09:25:31.626598Z",
     "shell.execute_reply.started": "2022-04-12T09:25:29.732867Z"
    }
   },
   "outputs": [],
   "source": [
    "import numpy as np\n",
    "import os\n",
    "from skimage import io\n",
    "from skimage.transform import rescale\n",
    "from skimage.util import crop\n",
    "import datetime\n",
    "import os\n",
    "import matplotlib.pyplot as plt\n",
    "import tensorflow as tf\n",
    "import random\n",
    "\n",
    "import warnings\n",
    "warnings.filterwarnings('ignore')"
   ]
  },
  {
   "cell_type": "markdown",
   "metadata": {},
   "source": [
    "We set the random seed so that the results don't vary drastically."
   ]
  },
  {
   "cell_type": "code",
   "execution_count": 3,
   "metadata": {
    "execution": {
     "iopub.execute_input": "2022-04-12T09:25:31.636452Z",
     "iopub.status.busy": "2022-04-12T09:25:31.635892Z",
     "iopub.status.idle": "2022-04-12T09:25:31.789275Z",
     "shell.execute_reply": "2022-04-12T09:25:31.788635Z",
     "shell.execute_reply.started": "2022-04-12T09:25:31.636412Z"
    }
   },
   "outputs": [],
   "source": [
    "np.random.seed(30)\n",
    "import random as rn\n",
    "rn.seed(30)\n",
    "from tensorflow.keras import backend as K"
   ]
  },
  {
   "cell_type": "code",
   "execution_count": 4,
   "metadata": {
    "execution": {
     "iopub.execute_input": "2022-04-12T09:25:31.790771Z",
     "iopub.status.busy": "2022-04-12T09:25:31.790524Z",
     "iopub.status.idle": "2022-04-12T09:25:31.794908Z",
     "shell.execute_reply": "2022-04-12T09:25:31.794253Z",
     "shell.execute_reply.started": "2022-04-12T09:25:31.790736Z"
    }
   },
   "outputs": [],
   "source": [
    "# source_path = 'Project_data/'\n",
    "source_path = '../input/gesture-recognition/gesture_recognition/'"
   ]
  },
  {
   "cell_type": "markdown",
   "metadata": {},
   "source": [
    "In this block, you read the folder names for training and validation. You also set the `batch_size` here. Note that you set the batch size in such a way that you are able to use the GPU in full capacity. You keep increasing the batch size until the machine throws an error."
   ]
  },
  {
   "cell_type": "code",
   "execution_count": 5,
   "metadata": {
    "execution": {
     "iopub.execute_input": "2022-04-12T09:25:31.797878Z",
     "iopub.status.busy": "2022-04-12T09:25:31.797156Z",
     "iopub.status.idle": "2022-04-12T09:25:31.813465Z",
     "shell.execute_reply": "2022-04-12T09:25:31.812857Z",
     "shell.execute_reply.started": "2022-04-12T09:25:31.797838Z"
    }
   },
   "outputs": [],
   "source": [
    "train_doc = np.random.permutation(open(source_path + 'train.csv').readlines())\n",
    "val_doc = np.random.permutation(open(source_path + 'val.csv').readlines())\n",
    "batch_size = 32"
   ]
  },
  {
   "cell_type": "markdown",
   "metadata": {},
   "source": [
    "## Generator\n",
    "This is one of the most important part of the code. The overall structure of the generator has been given. In the generator, you are going to preprocess the images as you have images of 2 different dimensions as well as create a batch of video frames. You have to experiment with `img_idx`, `y`,`z` and normalization such that you get high accuracy."
   ]
  },
  {
   "cell_type": "code",
   "execution_count": 7,
   "metadata": {
    "execution": {
     "iopub.execute_input": "2022-04-12T09:25:31.820816Z",
     "iopub.status.busy": "2022-04-12T09:25:31.820304Z",
     "iopub.status.idle": "2022-04-12T09:25:31.848025Z",
     "shell.execute_reply": "2022-04-12T09:25:31.847308Z",
     "shell.execute_reply.started": "2022-04-12T09:25:31.820777Z"
    }
   },
   "outputs": [],
   "source": [
    "img_height = 120\n",
    "img_width = 120\n",
    "img_idx = [0,2,4,6,8,10,11,12,13,14,15,16,17,18,19,21,23,25,27,29]\n",
    "img_shape = (len(img_idx), img_height, img_width, 3)\n",
    "num_classes = 5\n",
    "\n",
    "def generator(source_path, folder_list, batch_size):\n",
    "    print( 'Source path = ', source_path, '; batch size =', batch_size)\n",
    "    while True:\n",
    "        t = np.random.permutation(folder_list)\n",
    "        num_batches = len(t)//batch_size\n",
    "        for batch in range(num_batches): # we iterate over the number of batches\n",
    "            batch_data = np.zeros((batch_size,len(img_idx), img_height, img_width, 3)) # x is the number of images you use for each video, (y,z) is the final size of the input images and 3 is the number of channels RGB\n",
    "            batch_labels = np.zeros((batch_size, num_classes)) # batch_labels is the one hot representation of the output\n",
    "            for folder in range(batch_size): # iterate over the batch_size\n",
    "                imgs = os.listdir(source_path+'/'+ t[folder + (batch*batch_size)].split(';')[0]) # read all the images in the folder\n",
    "                for idx,item in enumerate(img_idx): #  Iterate iver the frames/images of a folder to read them in\n",
    "                    image = io.imread(source_path+'/'+ t[folder + (batch*batch_size)].strip().split(';')[0]+'/'+imgs[item]).astype(np.float32)\n",
    "                    \n",
    "                    #crop the images and resize them. Note that the images are of 2 different shape \n",
    "                    if image.shape == (120, 160, 3):\n",
    "                        image = crop(image, ((0, 0), (20, 20), (0,0)), copy=False)\n",
    "                    elif image.shape == (360, 360, 3):\n",
    "                        image = rescale(image, 1/3, multichannel=True, mode='constant')\n",
    "                        \n",
    "                    batch_data[folder,idx,:,:,0] = ( image[:,:,0] - np.mean(image[:,:,0]) ) / ( np.max(image[:,:,0]) - np.min(image[:,:,0]) )\n",
    "                    batch_data[folder,idx,:,:,1] = ( image[:,:,1] - np.mean(image[:,:,1]) ) / ( np.max(image[:,:,1]) - np.min(image[:,:,1]) )\n",
    "                    batch_data[folder,idx,:,:,2] = ( image[:,:,2] - np.mean(image[:,:,2]) ) / ( np.max(image[:,:,2]) - np.min(image[:,:,2]) )\n",
    "                    \n",
    "                batch_labels[folder, int(t[folder + (batch*batch_size)].strip().split(';')[2])] = 1\n",
    "            yield batch_data, batch_labels #you yield the batch_data and the batch_labels, remember what does yield do\n",
    "\n",
    "        \n",
    "        # write the code for the remaining data points which are left after full batches\n",
    "        sequences_left = len(t) % batch_size\n",
    "        batch_data = np.zeros((sequences_left, len(img_idx), img_height, img_width, 3))\n",
    "        batch_labels = np.zeros((sequences_left, num_classes))\n",
    "        for folder in range(sequences_left):\n",
    "            imgs = os.listdir(source_path+'/'+ t[folder + (num_batches*batch_size)].split(';')[0]) # read all the images in the folder\n",
    "            for idx,item in enumerate(img_idx): \n",
    "                image = io.imread(source_path+'/'+ t[folder + (num_batches*batch_size)].strip().split(';')[0]+'/'+imgs[item]).astype(np.float32)\n",
    "                \n",
    "                #crop the images and resize them. Note that the images are of 2 different shape \n",
    "                if image.shape == (120, 160, 3):\n",
    "                    image = crop(image, ((0, 0), (20, 20), (0,0)), copy=False)\n",
    "                elif image.shape == (360, 360, 3):\n",
    "                    image = rescale(image, 1/3, multichannel=True, mode='constant')\n",
    "\n",
    "                batch_data[folder,idx,:,:,0] = ( image[:,:,0] - np.mean(image[:,:,0]) ) / ( np.max(image[:,:,0]) - np.min(image[:,:,0]) )\n",
    "                batch_data[folder,idx,:,:,1] = ( image[:,:,1] - np.mean(image[:,:,1]) ) / ( np.max(image[:,:,1]) - np.min(image[:,:,1]) )\n",
    "                batch_data[folder,idx,:,:,2] = ( image[:,:,2] - np.mean(image[:,:,2]) ) / ( np.max(image[:,:,2]) - np.min(image[:,:,2]) )\n",
    "\n",
    "            batch_labels[folder, int(t[folder + (num_batches*batch_size)].strip().split(';')[2])] = 1\n",
    "        yield batch_data, batch_labels\n"
   ]
  },
  {
   "cell_type": "markdown",
   "metadata": {},
   "source": [
    "Note here that a video is represented above in the generator as (number of images, height, width, number of channels). Take this into consideration while creating the model architecture."
   ]
  },
  {
   "cell_type": "code",
   "execution_count": 8,
   "metadata": {
    "execution": {
     "iopub.execute_input": "2022-04-12T09:25:31.849704Z",
     "iopub.status.busy": "2022-04-12T09:25:31.849306Z",
     "iopub.status.idle": "2022-04-12T09:25:31.861910Z",
     "shell.execute_reply": "2022-04-12T09:25:31.861212Z",
     "shell.execute_reply.started": "2022-04-12T09:25:31.849665Z"
    }
   },
   "outputs": [
    {
     "name": "stdout",
     "output_type": "stream",
     "text": [
      "# training sequences = 663\n",
      "# validation sequences = 100\n",
      "# epochs = 30\n"
     ]
    }
   ],
   "source": [
    "curr_dt_time = datetime.datetime.now()\n",
    "train_path = source_path + 'train'\n",
    "val_path = source_path + 'val'\n",
    "num_train_sequences = len(train_doc)\n",
    "print('# training sequences =', num_train_sequences)\n",
    "num_val_sequences = len(val_doc)\n",
    "print('# validation sequences =', num_val_sequences)\n",
    "num_epochs = 30\n",
    "print ('# epochs =', num_epochs)"
   ]
  },
  {
   "cell_type": "markdown",
   "metadata": {},
   "source": [
    "## Model\n",
    "Here you make the model using different functionalities that Keras provides. Remember to use `Conv3D` and `MaxPooling3D` and not `Conv2D` and `Maxpooling2D` for a 3D convolution model. You would want to use `TimeDistributed` while building a Conv2D + RNN model. Also remember that the last layer is the softmax. Design the network in such a way that the model is able to give good accuracy on the least number of parameters so that it can fit in the memory of the webcam."
   ]
  },
  {
   "cell_type": "code",
   "execution_count": 9,
   "metadata": {
    "execution": {
     "iopub.execute_input": "2022-04-12T09:25:31.863208Z",
     "iopub.status.busy": "2022-04-12T09:25:31.862946Z",
     "iopub.status.idle": "2022-04-12T09:25:34.512078Z",
     "shell.execute_reply": "2022-04-12T09:25:34.511334Z",
     "shell.execute_reply.started": "2022-04-12T09:25:31.863172Z"
    }
   },
   "outputs": [
    {
     "name": "stderr",
     "output_type": "stream",
     "text": [
      "2022-04-12 09:25:31.921813: I tensorflow/stream_executor/cuda/cuda_gpu_executor.cc:937] successful NUMA node read from SysFS had negative value (-1), but there must be at least one NUMA node, so returning NUMA node zero\n",
      "2022-04-12 09:25:31.932116: I tensorflow/stream_executor/cuda/cuda_gpu_executor.cc:937] successful NUMA node read from SysFS had negative value (-1), but there must be at least one NUMA node, so returning NUMA node zero\n",
      "2022-04-12 09:25:31.932849: I tensorflow/stream_executor/cuda/cuda_gpu_executor.cc:937] successful NUMA node read from SysFS had negative value (-1), but there must be at least one NUMA node, so returning NUMA node zero\n",
      "2022-04-12 09:25:31.933955: I tensorflow/core/platform/cpu_feature_guard.cc:142] This TensorFlow binary is optimized with oneAPI Deep Neural Network Library (oneDNN) to use the following CPU instructions in performance-critical operations:  AVX2 AVX512F FMA\n",
      "To enable them in other operations, rebuild TensorFlow with the appropriate compiler flags.\n",
      "2022-04-12 09:25:31.934270: I tensorflow/stream_executor/cuda/cuda_gpu_executor.cc:937] successful NUMA node read from SysFS had negative value (-1), but there must be at least one NUMA node, so returning NUMA node zero\n",
      "2022-04-12 09:25:31.934980: I tensorflow/stream_executor/cuda/cuda_gpu_executor.cc:937] successful NUMA node read from SysFS had negative value (-1), but there must be at least one NUMA node, so returning NUMA node zero\n",
      "2022-04-12 09:25:31.935630: I tensorflow/stream_executor/cuda/cuda_gpu_executor.cc:937] successful NUMA node read from SysFS had negative value (-1), but there must be at least one NUMA node, so returning NUMA node zero\n",
      "2022-04-12 09:25:32.548764: I tensorflow/stream_executor/cuda/cuda_gpu_executor.cc:937] successful NUMA node read from SysFS had negative value (-1), but there must be at least one NUMA node, so returning NUMA node zero\n",
      "2022-04-12 09:25:32.549556: I tensorflow/stream_executor/cuda/cuda_gpu_executor.cc:937] successful NUMA node read from SysFS had negative value (-1), but there must be at least one NUMA node, so returning NUMA node zero\n",
      "2022-04-12 09:25:32.550257: I tensorflow/stream_executor/cuda/cuda_gpu_executor.cc:937] successful NUMA node read from SysFS had negative value (-1), but there must be at least one NUMA node, so returning NUMA node zero\n",
      "2022-04-12 09:25:32.550857: I tensorflow/core/common_runtime/gpu/gpu_device.cc:1510] Created device /job:localhost/replica:0/task:0/device:GPU:0 with 15403 MB memory:  -> device: 0, name: Tesla P100-PCIE-16GB, pci bus id: 0000:00:04.0, compute capability: 6.0\n"
     ]
    }
   ],
   "source": [
    "from tensorflow.keras.models import Sequential, Model\n",
    "from tensorflow.keras.layers import Conv2D, MaxPooling2D, Dense, GRU, Flatten, TimeDistributed, Flatten, BatchNormalization, Activation, InputLayer, Dropout, GlobalAveragePooling2D\n",
    "from tensorflow.keras.callbacks import ModelCheckpoint, ReduceLROnPlateau\n",
    "from tensorflow.keras import optimizers\n",
    "from tensorflow.keras.applications import MobileNetV2\n",
    "\n",
    "base_model_mobilnet = MobileNetV2(weights='imagenet',include_top=False)\n",
    "\n",
    "model = Sequential()\n",
    "\n",
    "# Input layer to accept image sequence with the shape of our sequence\n",
    "model.add(InputLayer(input_shape=img_shape))\n",
    "\n",
    "# Adding mobileNet for transfer learning - to use as a CNN\n",
    "model.add(TimeDistributed(base_model_mobilnet))\n",
    "model.add(TimeDistributed(Dropout(0.3)))\n",
    "model.add(TimeDistributed(GlobalAveragePooling2D()))\n",
    "\n",
    "# Adding GRU layer with Dropouts\n",
    "model.add(TimeDistributed(Flatten()))\n",
    "model.add(GRU(128, dropout=0.25))\n",
    "\n",
    "model.add(Dense(num_classes, activation = \"softmax\", kernel_regularizer='l1'))"
   ]
  },
  {
   "cell_type": "markdown",
   "metadata": {},
   "source": [
    "Now that you have written the model, the next step is to `compile` the model. When you print the `summary` of the model, you'll see the total number of parameters you have to train."
   ]
  },
  {
   "cell_type": "code",
   "execution_count": 10,
   "metadata": {
    "execution": {
     "iopub.execute_input": "2022-04-12T09:25:34.513679Z",
     "iopub.status.busy": "2022-04-12T09:25:34.513402Z",
     "iopub.status.idle": "2022-04-12T09:25:34.544817Z",
     "shell.execute_reply": "2022-04-12T09:25:34.544148Z",
     "shell.execute_reply.started": "2022-04-12T09:25:34.513635Z"
    }
   },
   "outputs": [
    {
     "name": "stdout",
     "output_type": "stream",
     "text": [
      "Model: \"sequential\"\n",
      "_________________________________________________________________\n",
      "Layer (type)                 Output Shape              Param #   \n",
      "=================================================================\n",
      "time_distributed (TimeDistri (None, 20, 3, 3, 1280)    2257984   \n",
      "_________________________________________________________________\n",
      "time_distributed_1 (TimeDist (None, 20, 3, 3, 1280)    0         \n",
      "_________________________________________________________________\n",
      "time_distributed_2 (TimeDist (None, 20, 1280)          0         \n",
      "_________________________________________________________________\n",
      "time_distributed_3 (TimeDist (None, 20, 1280)          0         \n",
      "_________________________________________________________________\n",
      "gru (GRU)                    (None, 128)               541440    \n",
      "_________________________________________________________________\n",
      "dense (Dense)                (None, 5)                 645       \n",
      "=================================================================\n",
      "Total params: 2,800,069\n",
      "Trainable params: 2,765,957\n",
      "Non-trainable params: 34,112\n",
      "_________________________________________________________________\n",
      "None\n"
     ]
    }
   ],
   "source": [
    "optimiser = optimizers.SGD(learning_rate=0.05)\n",
    "model.compile(optimizer=optimiser, loss='categorical_crossentropy', metrics=['categorical_accuracy'])\n",
    "print (model.summary())"
   ]
  },
  {
   "cell_type": "markdown",
   "metadata": {},
   "source": [
    "Let us create the `train_generator` and the `val_generator` which will be used in `.fit_generator`."
   ]
  },
  {
   "cell_type": "code",
   "execution_count": 11,
   "metadata": {
    "execution": {
     "iopub.execute_input": "2022-04-12T09:25:34.546486Z",
     "iopub.status.busy": "2022-04-12T09:25:34.546093Z",
     "iopub.status.idle": "2022-04-12T09:25:34.551109Z",
     "shell.execute_reply": "2022-04-12T09:25:34.550392Z",
     "shell.execute_reply.started": "2022-04-12T09:25:34.546435Z"
    }
   },
   "outputs": [],
   "source": [
    "train_generator = generator(train_path, train_doc, batch_size)\n",
    "val_generator = generator(val_path, val_doc, batch_size)"
   ]
  },
  {
   "cell_type": "code",
   "execution_count": 12,
   "metadata": {
    "execution": {
     "iopub.execute_input": "2022-04-12T09:25:34.552605Z",
     "iopub.status.busy": "2022-04-12T09:25:34.552143Z",
     "iopub.status.idle": "2022-04-12T09:25:34.560543Z",
     "shell.execute_reply": "2022-04-12T09:25:34.559845Z",
     "shell.execute_reply.started": "2022-04-12T09:25:34.552561Z"
    }
   },
   "outputs": [],
   "source": [
    "model_name = 'model_init' + '_' + str(curr_dt_time).replace(' ','').replace(':','_') + '/'\n",
    "    \n",
    "if not os.path.exists(model_name):\n",
    "    os.mkdir(model_name)\n",
    "        \n",
    "filepath = model_name + 'model-{epoch:05d}-{loss:.5f}-{categorical_accuracy:.5f}-{val_loss:.5f}-{val_categorical_accuracy:.5f}.h5'\n",
    "\n",
    "checkpoint = ModelCheckpoint(filepath, monitor='val_loss', verbose=1, save_best_only=True, save_weights_only=False, mode='auto', period=1)\n",
    "\n",
    "LR = ReduceLROnPlateau(monitor='val_loss', factor=0.05, patience=1, min_lr=0.0001, mode='auto', verbose=1, cooldown=2)\n",
    "# callbacks_list = [checkpoint, LR]\n",
    "callbacks_list = [checkpoint]"
   ]
  },
  {
   "cell_type": "markdown",
   "metadata": {},
   "source": [
    "The `steps_per_epoch` and `validation_steps` are used by `fit_generator` to decide the number of next() calls it need to make."
   ]
  },
  {
   "cell_type": "code",
   "execution_count": 13,
   "metadata": {
    "execution": {
     "iopub.execute_input": "2022-04-12T09:25:34.562444Z",
     "iopub.status.busy": "2022-04-12T09:25:34.561650Z",
     "iopub.status.idle": "2022-04-12T09:25:34.574611Z",
     "shell.execute_reply": "2022-04-12T09:25:34.573847Z",
     "shell.execute_reply.started": "2022-04-12T09:25:34.562403Z"
    }
   },
   "outputs": [],
   "source": [
    "if (num_train_sequences%batch_size) == 0:\n",
    "    steps_per_epoch = int(num_train_sequences/batch_size)\n",
    "else:\n",
    "    steps_per_epoch = (num_train_sequences//batch_size) + 1\n",
    "\n",
    "if (num_val_sequences%batch_size) == 0:\n",
    "    validation_steps = int(num_val_sequences/batch_size)\n",
    "else:\n",
    "    validation_steps = (num_val_sequences//batch_size) + 1"
   ]
  },
  {
   "cell_type": "markdown",
   "metadata": {},
   "source": [
    "Let us now fit the model. This will start training the model and with the help of the checkpoints, you'll be able to save the model at the end of each epoch."
   ]
  },
  {
   "cell_type": "code",
   "execution_count": 14,
   "metadata": {
    "execution": {
     "iopub.execute_input": "2022-04-12T09:25:34.577418Z",
     "iopub.status.busy": "2022-04-12T09:25:34.577207Z",
     "iopub.status.idle": "2022-04-12T10:23:23.910006Z",
     "shell.execute_reply": "2022-04-12T10:23:23.909163Z",
     "shell.execute_reply.started": "2022-04-12T09:25:34.577394Z"
    },
    "scrolled": false
   },
   "outputs": [
    {
     "name": "stdout",
     "output_type": "stream",
     "text": [
      "Source path =  ../input/gesture-recognition/gesture_recognition/train ; batch size = 32\n"
     ]
    },
    {
     "name": "stderr",
     "output_type": "stream",
     "text": [
      "2022-04-12 09:25:38.732106: I tensorflow/compiler/mlir/mlir_graph_optimization_pass.cc:185] None of the MLIR Optimization Passes are enabled (registered 2)\n"
     ]
    },
    {
     "name": "stdout",
     "output_type": "stream",
     "text": [
      "Epoch 1/30\n"
     ]
    },
    {
     "name": "stderr",
     "output_type": "stream",
     "text": [
      "2022-04-12 09:25:44.915831: I tensorflow/stream_executor/cuda/cuda_dnn.cc:369] Loaded cuDNN version 8005\n"
     ]
    },
    {
     "name": "stdout",
     "output_type": "stream",
     "text": [
      "21/21 [==============================] - ETA: 0s - loss: 1.6662 - categorical_accuracy: 0.5943Source path =  ../input/gesture-recognition/gesture_recognition/val ; batch size = 32\n",
      "21/21 [==============================] - 134s 6s/step - loss: 1.6662 - categorical_accuracy: 0.5943 - val_loss: 2.7352 - val_categorical_accuracy: 0.3800\n",
      "\n",
      "Epoch 00001: val_loss improved from inf to 2.73525, saving model to model_init_2022-04-1209_25_31.857943/model-00001-1.66620-0.59427-2.73525-0.38000.h5\n",
      "Epoch 2/30\n",
      "21/21 [==============================] - 115s 6s/step - loss: 0.8653 - categorical_accuracy: 0.9095 - val_loss: 2.1234 - val_categorical_accuracy: 0.4500\n",
      "\n",
      "Epoch 00002: val_loss improved from 2.73525 to 2.12338, saving model to model_init_2022-04-1209_25_31.857943/model-00002-0.86529-0.90950-2.12338-0.45000.h5\n",
      "Epoch 3/30\n",
      "21/21 [==============================] - 116s 6s/step - loss: 0.6345 - categorical_accuracy: 0.9774 - val_loss: 1.8404 - val_categorical_accuracy: 0.5700\n",
      "\n",
      "Epoch 00003: val_loss improved from 2.12338 to 1.84044, saving model to model_init_2022-04-1209_25_31.857943/model-00003-0.63445-0.97738-1.84044-0.57000.h5\n",
      "Epoch 4/30\n",
      "21/21 [==============================] - 110s 5s/step - loss: 0.5495 - categorical_accuracy: 0.9940 - val_loss: 1.2862 - val_categorical_accuracy: 0.6700\n",
      "\n",
      "Epoch 00004: val_loss improved from 1.84044 to 1.28618, saving model to model_init_2022-04-1209_25_31.857943/model-00004-0.54948-0.99397-1.28618-0.67000.h5\n",
      "Epoch 5/30\n",
      "21/21 [==============================] - 115s 6s/step - loss: 0.4881 - categorical_accuracy: 0.9985 - val_loss: 1.2040 - val_categorical_accuracy: 0.7000\n",
      "\n",
      "Epoch 00005: val_loss improved from 1.28618 to 1.20396, saving model to model_init_2022-04-1209_25_31.857943/model-00005-0.48808-0.99849-1.20396-0.70000.h5\n",
      "Epoch 6/30\n",
      "21/21 [==============================] - 114s 6s/step - loss: 0.4295 - categorical_accuracy: 1.0000 - val_loss: 1.2137 - val_categorical_accuracy: 0.6100\n",
      "\n",
      "Epoch 00006: val_loss did not improve from 1.20396\n",
      "Epoch 7/30\n",
      "21/21 [==============================] - 119s 6s/step - loss: 0.3915 - categorical_accuracy: 0.9985 - val_loss: 1.0366 - val_categorical_accuracy: 0.7200\n",
      "\n",
      "Epoch 00007: val_loss improved from 1.20396 to 1.03662, saving model to model_init_2022-04-1209_25_31.857943/model-00007-0.39147-0.99849-1.03662-0.72000.h5\n",
      "Epoch 8/30\n",
      "21/21 [==============================] - 112s 6s/step - loss: 0.3576 - categorical_accuracy: 1.0000 - val_loss: 0.9496 - val_categorical_accuracy: 0.7400\n",
      "\n",
      "Epoch 00008: val_loss improved from 1.03662 to 0.94961, saving model to model_init_2022-04-1209_25_31.857943/model-00008-0.35763-1.00000-0.94961-0.74000.h5\n",
      "Epoch 9/30\n",
      "21/21 [==============================] - 114s 6s/step - loss: 0.3305 - categorical_accuracy: 1.0000 - val_loss: 0.8987 - val_categorical_accuracy: 0.7400\n",
      "\n",
      "Epoch 00009: val_loss improved from 0.94961 to 0.89870, saving model to model_init_2022-04-1209_25_31.857943/model-00009-0.33048-1.00000-0.89870-0.74000.h5\n",
      "Epoch 10/30\n",
      "21/21 [==============================] - 114s 6s/step - loss: 0.3100 - categorical_accuracy: 1.0000 - val_loss: 0.8270 - val_categorical_accuracy: 0.7600\n",
      "\n",
      "Epoch 00010: val_loss improved from 0.89870 to 0.82699, saving model to model_init_2022-04-1209_25_31.857943/model-00010-0.30999-1.00000-0.82699-0.76000.h5\n",
      "Epoch 11/30\n",
      "21/21 [==============================] - 116s 6s/step - loss: 0.2864 - categorical_accuracy: 1.0000 - val_loss: 0.7121 - val_categorical_accuracy: 0.8100\n",
      "\n",
      "Epoch 00011: val_loss improved from 0.82699 to 0.71209, saving model to model_init_2022-04-1209_25_31.857943/model-00011-0.28643-1.00000-0.71209-0.81000.h5\n",
      "Epoch 12/30\n",
      "21/21 [==============================] - 111s 6s/step - loss: 0.2726 - categorical_accuracy: 1.0000 - val_loss: 0.7245 - val_categorical_accuracy: 0.7900\n",
      "\n",
      "Epoch 00012: val_loss did not improve from 0.71209\n",
      "Epoch 13/30\n",
      "21/21 [==============================] - 112s 6s/step - loss: 0.2639 - categorical_accuracy: 1.0000 - val_loss: 0.6918 - val_categorical_accuracy: 0.8200\n",
      "\n",
      "Epoch 00013: val_loss improved from 0.71209 to 0.69176, saving model to model_init_2022-04-1209_25_31.857943/model-00013-0.26395-1.00000-0.69176-0.82000.h5\n",
      "Epoch 14/30\n",
      "21/21 [==============================] - 115s 6s/step - loss: 0.2560 - categorical_accuracy: 1.0000 - val_loss: 0.7196 - val_categorical_accuracy: 0.8400\n",
      "\n",
      "Epoch 00014: val_loss did not improve from 0.69176\n",
      "Epoch 15/30\n",
      "21/21 [==============================] - 119s 6s/step - loss: 0.2460 - categorical_accuracy: 1.0000 - val_loss: 0.5982 - val_categorical_accuracy: 0.8400\n",
      "\n",
      "Epoch 00015: val_loss improved from 0.69176 to 0.59822, saving model to model_init_2022-04-1209_25_31.857943/model-00015-0.24598-1.00000-0.59822-0.84000.h5\n",
      "Epoch 16/30\n",
      "21/21 [==============================] - 111s 6s/step - loss: 0.2417 - categorical_accuracy: 1.0000 - val_loss: 0.6623 - val_categorical_accuracy: 0.8100\n",
      "\n",
      "Epoch 00016: val_loss did not improve from 0.59822\n",
      "Epoch 17/30\n",
      "21/21 [==============================] - 116s 6s/step - loss: 0.2374 - categorical_accuracy: 1.0000 - val_loss: 0.6327 - val_categorical_accuracy: 0.8100\n",
      "\n",
      "Epoch 00017: val_loss did not improve from 0.59822\n",
      "Epoch 18/30\n",
      "21/21 [==============================] - 115s 6s/step - loss: 0.2304 - categorical_accuracy: 1.0000 - val_loss: 0.5804 - val_categorical_accuracy: 0.8700\n",
      "\n",
      "Epoch 00018: val_loss improved from 0.59822 to 0.58039, saving model to model_init_2022-04-1209_25_31.857943/model-00018-0.23041-1.00000-0.58039-0.87000.h5\n",
      "Epoch 19/30\n",
      "21/21 [==============================] - 117s 6s/step - loss: 0.2235 - categorical_accuracy: 1.0000 - val_loss: 0.5646 - val_categorical_accuracy: 0.8400\n",
      "\n",
      "Epoch 00019: val_loss improved from 0.58039 to 0.56462, saving model to model_init_2022-04-1209_25_31.857943/model-00019-0.22355-1.00000-0.56462-0.84000.h5\n",
      "Epoch 20/30\n",
      "21/21 [==============================] - 113s 6s/step - loss: 0.2199 - categorical_accuracy: 1.0000 - val_loss: 0.5892 - val_categorical_accuracy: 0.8400\n",
      "\n",
      "Epoch 00020: val_loss did not improve from 0.56462\n",
      "Epoch 21/30\n",
      "21/21 [==============================] - 115s 6s/step - loss: 0.2189 - categorical_accuracy: 1.0000 - val_loss: 0.5914 - val_categorical_accuracy: 0.8400\n",
      "\n",
      "Epoch 00021: val_loss did not improve from 0.56462\n",
      "Epoch 22/30\n",
      "21/21 [==============================] - 117s 6s/step - loss: 0.2180 - categorical_accuracy: 1.0000 - val_loss: 0.5489 - val_categorical_accuracy: 0.8500\n",
      "\n",
      "Epoch 00022: val_loss improved from 0.56462 to 0.54893, saving model to model_init_2022-04-1209_25_31.857943/model-00022-0.21798-1.00000-0.54893-0.85000.h5\n",
      "Epoch 23/30\n",
      "21/21 [==============================] - 116s 6s/step - loss: 0.2140 - categorical_accuracy: 1.0000 - val_loss: 0.6126 - val_categorical_accuracy: 0.8300\n",
      "\n",
      "Epoch 00023: val_loss did not improve from 0.54893\n",
      "Epoch 24/30\n",
      "21/21 [==============================] - 113s 6s/step - loss: 0.2138 - categorical_accuracy: 1.0000 - val_loss: 0.5701 - val_categorical_accuracy: 0.8800\n",
      "\n",
      "Epoch 00024: val_loss did not improve from 0.54893\n",
      "Epoch 25/30\n",
      "21/21 [==============================] - 115s 6s/step - loss: 0.2068 - categorical_accuracy: 1.0000 - val_loss: 0.5757 - val_categorical_accuracy: 0.8700\n",
      "\n",
      "Epoch 00025: val_loss did not improve from 0.54893\n",
      "Epoch 26/30\n",
      "21/21 [==============================] - 116s 6s/step - loss: 0.2044 - categorical_accuracy: 1.0000 - val_loss: 0.6744 - val_categorical_accuracy: 0.8400\n",
      "\n",
      "Epoch 00026: val_loss did not improve from 0.54893\n",
      "Epoch 27/30\n",
      "21/21 [==============================] - 117s 6s/step - loss: 0.2024 - categorical_accuracy: 1.0000 - val_loss: 0.5048 - val_categorical_accuracy: 0.8900\n",
      "\n",
      "Epoch 00027: val_loss improved from 0.54893 to 0.50480, saving model to model_init_2022-04-1209_25_31.857943/model-00027-0.20244-1.00000-0.50480-0.89000.h5\n",
      "Epoch 28/30\n",
      "21/21 [==============================] - 112s 6s/step - loss: 0.2015 - categorical_accuracy: 1.0000 - val_loss: 0.5725 - val_categorical_accuracy: 0.8800\n",
      "\n",
      "Epoch 00028: val_loss did not improve from 0.50480\n",
      "Epoch 29/30\n",
      "21/21 [==============================] - 115s 6s/step - loss: 0.1974 - categorical_accuracy: 1.0000 - val_loss: 0.5696 - val_categorical_accuracy: 0.8600\n",
      "\n",
      "Epoch 00029: val_loss did not improve from 0.50480\n",
      "Epoch 30/30\n",
      "21/21 [==============================] - 116s 6s/step - loss: 0.1946 - categorical_accuracy: 1.0000 - val_loss: 0.5324 - val_categorical_accuracy: 0.8700\n",
      "\n",
      "Epoch 00030: val_loss did not improve from 0.50480\n"
     ]
    }
   ],
   "source": [
    "history = model.fit(train_generator, steps_per_epoch=steps_per_epoch, epochs=num_epochs, verbose=1, \n",
    "                    callbacks=callbacks_list, validation_data=val_generator, \n",
    "                    validation_steps=validation_steps, class_weight=None, workers=1, initial_epoch=0)"
   ]
  },
  {
   "cell_type": "code",
   "execution_count": 15,
   "metadata": {
    "execution": {
     "iopub.execute_input": "2022-04-12T10:23:23.912370Z",
     "iopub.status.busy": "2022-04-12T10:23:23.911947Z",
     "iopub.status.idle": "2022-04-12T10:23:24.385979Z",
     "shell.execute_reply": "2022-04-12T10:23:24.385336Z",
     "shell.execute_reply.started": "2022-04-12T10:23:23.912330Z"
    }
   },
   "outputs": [
    {
     "data": {
      "image/png": "[encoded data removed]",
      "text/plain": [
       "<Figure size 576x576 with 2 Axes>"
      ]
     },
     "metadata": {
      "needs_background": "light"
     },
     "output_type": "display_data"
    }
   ],
   "source": [
    "acc = history.history['categorical_accuracy']\n",
    "val_acc = history.history['val_categorical_accuracy']\n",
    "\n",
    "loss = history.history['loss']\n",
    "val_loss = history.history['val_loss']\n",
    "\n",
    "epochs_range = range(num_epochs)\n",
    "\n",
    "plt.figure(figsize=(8, 8))\n",
    "plt.subplot(1, 2, 1)\n",
    "plt.plot(epochs_range, acc, label='Training Accuracy')\n",
    "plt.plot(epochs_range, val_acc, label='Validation Accuracy')\n",
    "plt.legend(loc='lower right')\n",
    "plt.title('Training and Validation Accuracy')\n",
    "\n",
    "plt.subplot(1, 2, 2)\n",
    "plt.plot(epochs_range, loss, label='Training Loss')\n",
    "plt.plot(epochs_range, val_loss, label='Validation Loss')\n",
    "plt.legend(loc='upper right')\n",
    "plt.title('Training and Validation Loss')\n",
    "plt.show()"
   ]
  },
  {
   "cell_type": "markdown",
   "metadata": {},
   "source": [
    "### Conclusion\n",
    "The model has learnt well. \n",
    "1. The validation loss is decreasing and plateaus around 0.5\n",
    "2. Running this model for more epochs won't yeild any benefits as the validation loss has already plateau-ed\n",
    "3. The training accuracy has reached a perfect score of 1, the validation accuracy follows closely at 0.89, this can be considered as overfitting to some extent, but is a good model irresepctive."
   ]
  },
  {
   "cell_type": "code",
   "execution_count": null,
   "metadata": {},
   "outputs": [],
   "source": []
  }
 ],
 "metadata": {
  "kernelspec": {
   "display_name": "Python 3 (ipykernel)",
   "language": "python",
   "name": "python3"
  },
  "language_info": {
   "codemirror_mode": {
    "name": "ipython",
    "version": 3
   },
   "file_extension": ".py",
   "mimetype": "text/x-python",
   "name": "python",
   "nbconvert_exporter": "python",
   "pygments_lexer": "ipython3",
   "version": "3.10.2"
  }
 },
 "nbformat": 4,
 "nbformat_minor": 4
}
